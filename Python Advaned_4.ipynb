{
 "cells": [
  {
   "cell_type": "code",
   "execution_count": null,
   "id": "0b90a720-1877-4edf-899d-8fdd2ccf2a6c",
   "metadata": {},
   "outputs": [],
   "source": [
    "Q1. Which two operator overloading methods can you use in your classes to support iteration?"
   ]
  },
  {
   "cell_type": "code",
   "execution_count": null,
   "id": "dbf84921-2e0e-400e-ac6f-26d85e75652e",
   "metadata": {},
   "outputs": [],
   "source": [
    "In Python, overloading is achieved by overriding the method which is specifically for that operator, in the user-defined class. For example, __add__(self, x) is a method reserved for overloading + operator, and __eq__(self, x) is for overloading == ."
   ]
  },
  {
   "cell_type": "code",
   "execution_count": null,
   "id": "a0fa73cd-b8fb-4b52-bcf7-78be3bfe478a",
   "metadata": {},
   "outputs": [],
   "source": [
    "Q2. In what contexts do the two operator overloading methods manage printing?"
   ]
  },
  {
   "cell_type": "code",
   "execution_count": null,
   "id": "395561b6-0ab3-4791-a1fb-c66fff97a8d1",
   "metadata": {},
   "outputs": [],
   "source": [
    "Operator overloading is the ability to change the behavior of operators when used with user-defined classes or objects."
   ]
  },
  {
   "cell_type": "code",
   "execution_count": null,
   "id": "6b638822-55ad-4388-8fcc-42720ad8b040",
   "metadata": {},
   "outputs": [],
   "source": [
    "Q3. In a class, how do you intercept slice operations?"
   ]
  },
  {
   "cell_type": "code",
   "execution_count": null,
   "id": "e9b6e97a-040d-4946-a9e9-a1f055c327b1",
   "metadata": {},
   "outputs": [],
   "source": [
    "To slice a sequence, you can use square brackets [] with the start and end indices separated by a colon."
   ]
  },
  {
   "cell_type": "code",
   "execution_count": null,
   "id": "5fe5f1fe-20a8-4e3e-8d05-5491577a2a5b",
   "metadata": {},
   "outputs": [],
   "source": [
    "Q4. In a class, how do you capture in-place addition?"
   ]
  },
  {
   "cell_type": "code",
   "execution_count": null,
   "id": "acb8cb2a-10d5-44f3-8502-a35e288a6fb9",
   "metadata": {},
   "outputs": [],
   "source": [
    "Python provides the operator x += y to add two objects in-place by calculating the sum x + y and assigning the result to the first operands variable name x . You can set up the in-place addition behavior for your own class by overriding the magic “dunder” method __iadd__(self, other) in your class definition."
   ]
  },
  {
   "cell_type": "code",
   "execution_count": null,
   "id": "5c894421-2e0e-4e0d-bb83-a63d79f93d28",
   "metadata": {},
   "outputs": [],
   "source": [
    "The iadd(x, y) operator performs an in-place addition operation. It updates the value of the variable with the result. It is represented by the += symbol. The above code demonstrates how to perform in-place addition."
   ]
  },
  {
   "cell_type": "code",
   "execution_count": null,
   "id": "df44c9b8-4750-4893-8bf2-c8f1c4ddf9b7",
   "metadata": {},
   "outputs": [],
   "source": [
    "Q5. When is it appropriate to use operator overloading?"
   ]
  },
  {
   "cell_type": "code",
   "execution_count": null,
   "id": "b73356c7-4948-4be8-a493-0fedb74c83e4",
   "metadata": {},
   "outputs": [],
   "source": [
    "There are several reasons to use operator overloading in Python: It allows programmers to use built-in operators with user-defined objects, making code more expressive and concise. It can simplify code by allowing complex operations to be expressed in a single line of code."
   ]
  },
  {
   "cell_type": "code",
   "execution_count": null,
   "id": "0093c5a5-0711-4539-bf95-7f55055f5d47",
   "metadata": {},
   "outputs": [],
   "source": []
  },
  {
   "cell_type": "code",
   "execution_count": null,
   "id": "02a501ce-5e68-4c6e-b2d9-4fbc4f63f7fd",
   "metadata": {},
   "outputs": [],
   "source": []
  }
 ],
 "metadata": {
  "kernelspec": {
   "display_name": "Python 3 (ipykernel)",
   "language": "python",
   "name": "python3"
  },
  "language_info": {
   "codemirror_mode": {
    "name": "ipython",
    "version": 3
   },
   "file_extension": ".py",
   "mimetype": "text/x-python",
   "name": "python",
   "nbconvert_exporter": "python",
   "pygments_lexer": "ipython3",
   "version": "3.10.6"
  }
 },
 "nbformat": 4,
 "nbformat_minor": 5
}
